{
 "cells": [
  {
   "cell_type": "markdown",
   "metadata": {},
   "source": [
    "# LAB 04.02 - Buiding Datasets"
   ]
  },
  {
   "cell_type": "code",
   "execution_count": 66,
   "metadata": {},
   "outputs": [],
   "source": [
    "!wget --no-cache -O init.py -q https://raw.githubusercontent.com/rramosp/ai4eng.v1/main/content/init.py\n",
    "import init; init.init(force_download=False); init.get_weblink()\n",
    "init.endpoint"
   ]
  },
  {
   "cell_type": "code",
   "execution_count": 67,
   "metadata": {},
   "outputs": [],
   "source": [
    "from local.lib.rlxmoocapi import submit, session\n",
    "session.LoginSequence(endpoint=init.endpoint, course_id=init.course_id, lab_id=\"L04.02\", varname=\"student\");"
   ]
  },
  {
   "cell_type": "markdown",
   "metadata": {},
   "source": [
    "## Understand the ASHRAE Energy Prediction in Kaggle\n",
    "\n",
    "Follow this link: [https://www.kaggle.com/c/ashrae-energy-prediction](https://www.kaggle.com/c/ashrae-energy-prediction), register for the task and download the data.\n",
    "\n",
    "In particular, understand:\n",
    "\n",
    "- The machine learning task they define (what they want to predict)\n",
    "- How the data is provided\n",
    "- The structure and relation between the files `train.csv`, `weather_train.csv` and `building_metadata.csv`"
   ]
  },
  {
   "cell_type": "markdown",
   "metadata": {},
   "source": [
    "## Task 1: Build a training dataset\n",
    "\n",
    "Execute the cell below and you will be given a **building_id** and a **date**. You will have to:\n",
    "\n",
    "1. Build a table containing one row per hour and the following columns **only for that building_id and date**: \n",
    "       'meter_reading', 'site_id', 'air_temperature', 'cloud_coverage',\n",
    "       'dew_temperature', 'precip_depth_1_hr', 'sea_level_pressure',\n",
    "       'wind_direction', 'wind_speed', 'square_feet', 'year_built'\n",
    "   Note that you will have to gather this information from the different csv sources.\n",
    "   \n",
    "1. use only measures with `meter`=0\n",
    "1. Fill any missing values with zero.\n",
    "1. Extract the column of the target variable and sum all values.\n",
    "1. Sum all the values of the rest of the columns.\n",
    "1. Fill in those values in the variables below.\n",
    "1. Submit your answer.\n",
    "\n",
    "Observe that, with this dataset, we could train a model to make predictions of the target variable, taking the rest of the variables as input.\n",
    "\n",
    "For instance, for building number 900, on 2016-02-01:\n",
    "- there are 24 records\n",
    "- the sum of all values of the target variable is 4941 (cropping decimals)\n",
    "- the sum of all values of the rest of the variables is 2705422 (cropping decimals)"
   ]
  },
  {
   "cell_type": "code",
   "execution_count": 7,
   "metadata": {},
   "outputs": [],
   "source": [
    "from IPython.display import Image\n",
    "from local.lib import labutils\n",
    "import numpy as np\n",
    "bid, date = labutils.biddate_for_student(student.user_id)\n",
    "print (\"your building_id\", bid)\n",
    "print (\"your date       \", date)"
   ]
  },
  {
   "cell_type": "code",
   "execution_count": null,
   "metadata": {},
   "outputs": [],
   "source": []
  },
  {
   "cell_type": "markdown",
   "metadata": {},
   "source": [
    "#### provide your answer here, drop the decimals"
   ]
  },
  {
   "cell_type": "code",
   "execution_count": 8,
   "metadata": {},
   "outputs": [],
   "source": [
    "# target variable sum\n",
    "sumY = \n",
    "\n",
    "# input variables sum\n",
    "sumX = \n",
    "\n",
    "sumX, sumY"
   ]
  },
  {
   "cell_type": "code",
   "execution_count": null,
   "metadata": {},
   "outputs": [],
   "source": []
  },
  {
   "cell_type": "code",
   "execution_count": null,
   "metadata": {},
   "outputs": [],
   "source": []
  },
  {
   "cell_type": "markdown",
   "metadata": {},
   "source": [
    "**submit your answer**"
   ]
  },
  {
   "cell_type": "code",
   "execution_count": 39,
   "metadata": {
    "scrolled": true
   },
   "outputs": [],
   "source": [
    "student.submit_task(globals(), task_id=\"task_01\");"
   ]
  },
  {
   "cell_type": "code",
   "execution_count": null,
   "metadata": {},
   "outputs": [],
   "source": []
  },
  {
   "cell_type": "markdown",
   "metadata": {},
   "source": [
    "## Task 2. Time series missing data fix\n",
    "\n",
    "Observe how we can fill in missing data in a time series, by simply repeating the last seen value in the missing places."
   ]
  },
  {
   "cell_type": "code",
   "execution_count": 40,
   "metadata": {},
   "outputs": [
    {
     "data": {
      "image/png": "[encoded data removed]",
      "text/plain": [
       "<IPython.core.display.Image object>"
      ]
     },
     "execution_count": 40,
     "metadata": {},
     "output_type": "execute_result"
    }
   ],
   "source": [
    "Image(\"local/imgs/timeseries-ffill.png\")"
   ]
  },
  {
   "cell_type": "markdown",
   "metadata": {},
   "source": [
    "Using the weather data from the ASHRAE Kaggle competition that you must have downloaded in the previous task you will have to:\n",
    "\n",
    "1. Extract the time series for the variable `cloud_coverage` for **site_id=3** and for the **date assigned to you** (execute the cell below). This time series will have 24 values (including missing values).\n",
    "1. Fill in the missing data by repeating the last seen value as in the example above\n",
    "1. Report the time series as a Pyton list in the variable `fixed_ts` below\n",
    "\n",
    "Again, use any tool of your choice to generate your result"
   ]
  },
  {
   "cell_type": "code",
   "execution_count": 41,
   "metadata": {},
   "outputs": [],
   "source": [
    "from local.lib import labutils\n",
    "_, date = labutils.biddate_for_student(student.user_id)\n",
    "print (\"your date       \", date)"
   ]
  },
  {
   "cell_type": "markdown",
   "metadata": {},
   "source": [
    "#### fill in your fixed time series"
   ]
  },
  {
   "cell_type": "code",
   "execution_count": 72,
   "metadata": {},
   "outputs": [],
   "source": [
    "# for instance\n",
    "# fixed_ts = [6,6,6,4,4,5,6,7,7,7,6,6,6,5,4,3,2,2,1,1,1,2,3,4]\n",
    "fixed_ts = [  ]"
   ]
  },
  {
   "cell_type": "markdown",
   "metadata": {},
   "source": [
    "**submit your answer**"
   ]
  },
  {
   "cell_type": "code",
   "execution_count": 51,
   "metadata": {
    "scrolled": false
   },
   "outputs": [],
   "source": [
    "student.submit_task(globals(), task_id=\"task_02\");"
   ]
  },
  {
   "cell_type": "code",
   "execution_count": null,
   "metadata": {},
   "outputs": [],
   "source": []
  },
  {
   "cell_type": "markdown",
   "metadata": {},
   "source": [
    "## Task 3. Build a time series predictive dataset\n",
    "\n",
    "You will now build a predictive dataset for a single time series. This dataset can later be used with predictive models. The machine learning task we will try to adress is the following:\n",
    "\n",
    "> **Given three consecutive points of a time series, we want a model to predict the next one.**\n",
    "\n",
    "Starting from a time series (a list of of $n$ numbers) you will have to build a dataset such as in the following example\n",
    "\n"
   ]
  },
  {
   "cell_type": "code",
   "execution_count": 57,
   "metadata": {},
   "outputs": [
    {
     "name": "stdout",
     "output_type": "stream",
     "text": [
      "[44 45 42 38 47 45 46 44 47 52 53 48 46 42 42 34 30 27 24 24]\n"
     ]
    },
    {
     "data": {
      "image/png": "[encoded data removed]",
      "text/plain": [
       "<Figure size 720x144 with 1 Axes>"
      ]
     },
     "metadata": {
      "needs_background": "light"
     },
     "output_type": "display_data"
    }
   ],
   "source": [
    "\n",
    "import numpy as np\n",
    "import matplotlib.pyplot as plt\n",
    "%matplotlib inline\n",
    "\n",
    "ts = np.r_[44, 45, 42, 38, 47, 45, 46, 44, 47, 52, 53, 48, 46, 42, 42, 34, 30, 27, 24, 24]\n",
    "plt.figure(figsize=(10,2))\n",
    "plt.xticks(range(len(ts)), range(len(ts)))\n",
    "plt.grid();\n",
    "plt.plot(ts)\n",
    "print (ts)\n"
   ]
  },
  {
   "cell_type": "markdown",
   "metadata": {},
   "source": [
    "dataset:\n",
    "\n",
    "    [[[44, 45, 42], 38],\n",
    "     [[45, 42, 38], 47],\n",
    "     [[42, 38, 47], 45],\n",
    "     [[38, 47, 45], 46],\n",
    "     [[47, 45, 46], 44],\n",
    "     [[45, 46, 44], 47],\n",
    "     [[46, 44, 47], 52],\n",
    "     [[44, 47, 52], 53],\n",
    "     [[47, 52, 53], 48],\n",
    "     [[52, 53, 48], 46],\n",
    "     [[53, 48, 46], 42],\n",
    "     [[48, 46, 42], 42],\n",
    "     [[46, 42, 42], 34],\n",
    "     [[42, 42, 34], 30],\n",
    "     [[42, 34, 30], 27],\n",
    "     [[34, 30, 27], 24],\n",
    "     [[30, 27, 24], 24]]"
   ]
  },
  {
   "cell_type": "markdown",
   "metadata": {},
   "source": [
    "observe that each line in the dataset represents one input-output pair, like a sliding window over the time series. \n",
    "\n",
    "We created two components:\n",
    "\n",
    "- a matrix $X$ of dimensions `(len(ts)-n,3)` gathering all inputs, in the case above with dimensions `(17,3)`\n",
    "- a vector $y$ of dimension `(len(ts)-n)` gathering each corresponding expected output, in the case above with dimensions `(17)`.\n",
    "\n",
    "In this task, you will have to:\n",
    "\n",
    "1. Take the time series you created in the previous task, where you fixed the missing values.\n",
    "1. Build $X$, $y$ such as above with $n=3$. If your time series has 24 data points, then X dimensions will be (21,3) and y dimensions will be (21)\n",
    "\n",
    "Again, use any tool of your choice to generate your result."
   ]
  },
  {
   "cell_type": "code",
   "execution_count": null,
   "metadata": {},
   "outputs": [],
   "source": []
  },
  {
   "cell_type": "markdown",
   "metadata": {},
   "source": [
    "#### fill in your answer\n"
   ]
  },
  {
   "cell_type": "code",
   "execution_count": 94,
   "metadata": {},
   "outputs": [],
   "source": [
    "X = [ [  ,  ,  ],\n",
    "      [  ,  ,  ],\n",
    "      [  ,  ,  ] \n",
    "       ....\n",
    "    ]\n",
    "\n",
    "y = [ , , , , ... ]"
   ]
  },
  {
   "cell_type": "code",
   "execution_count": null,
   "metadata": {},
   "outputs": [],
   "source": []
  },
  {
   "cell_type": "code",
   "execution_count": null,
   "metadata": {},
   "outputs": [],
   "source": []
  },
  {
   "cell_type": "markdown",
   "metadata": {},
   "source": [
    "**submit your answer**"
   ]
  },
  {
   "cell_type": "code",
   "execution_count": 102,
   "metadata": {
    "scrolled": false
   },
   "outputs": [],
   "source": [
    "student.submit_task(globals(), task_id=\"task_03\");"
   ]
  },
  {
   "cell_type": "code",
   "execution_count": null,
   "metadata": {},
   "outputs": [],
   "source": []
  }
 ],
 "metadata": {
  "kernelspec": {
   "display_name": "Python 3 (ipykernel)",
   "language": "python",
   "name": "python3"
  },
  "language_info": {
   "codemirror_mode": {
    "name": "ipython",
    "version": 3
   },
   "file_extension": ".py",
   "mimetype": "text/x-python",
   "name": "python",
   "nbconvert_exporter": "python",
   "pygments_lexer": "ipython3",
   "version": "3.9.5"
  }
 },
 "nbformat": 4,
 "nbformat_minor": 2
}
